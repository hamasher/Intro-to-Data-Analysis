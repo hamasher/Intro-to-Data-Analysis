{
 "cells": [
  {
   "cell_type": "code",
   "execution_count": 1,
   "metadata": {
    "collapsed": false
   },
   "outputs": [],
   "source": [
    "import pandas as pd\n",
    "import numpy as np\n",
    "import matplotlib as plt\n",
    "import seaborn as sns"
   ]
  },
  {
   "cell_type": "markdown",
   "metadata": {},
   "source": [
    "Questions:\n",
    "1) How does the number of at-bats relate to the number of singles, doubles, triples, and homeruns?\n",
    "2) What is the relationship between the number of strikeouts and homeruns?\n",
    "3) What is the relationship between the number of games played, putouts, errors, and assists?"
   ]
  },
  {
   "cell_type": "code",
   "execution_count": 68,
   "metadata": {
    "collapsed": false
   },
   "outputs": [],
   "source": [
    "import unicodecsv\n",
    "\n",
    "with open('Batting.csv', 'rb') as f:\n",
    "    reader = unicodecsv.DictReader(f)\n",
    "    batting = list(reader)"
   ]
  },
  {
   "cell_type": "code",
   "execution_count": 69,
   "metadata": {
    "collapsed": false
   },
   "outputs": [],
   "source": [
    "with open('Fielding.csv', 'rb') as f:\n",
    "    reader = unicodecsv.DictReader(f)\n",
    "    fielding = list(reader)"
   ]
  },
  {
   "cell_type": "code",
   "execution_count": 70,
   "metadata": {
    "collapsed": false
   },
   "outputs": [],
   "source": [
    "batting_num_rows = len(batting) \n",
    "\n",
    "unique_batters = set() \n",
    "for batters in batting: \n",
    "    unique_batters.add(batters['playerID']) \n",
    "batting_num_unique_batters = len(unique_batters)"
   ]
  },
  {
   "cell_type": "code",
   "execution_count": 54,
   "metadata": {
    "collapsed": false
   },
   "outputs": [
    {
     "name": "stdout",
     "output_type": "stream",
     "text": [
      "101332\n"
     ]
    }
   ],
   "source": [
    "print batting_num_rows"
   ]
  },
  {
   "cell_type": "code",
   "execution_count": 55,
   "metadata": {
    "collapsed": false
   },
   "outputs": [
    {
     "name": "stdout",
     "output_type": "stream",
     "text": [
      "18659\n"
     ]
    }
   ],
   "source": [
    "print batting_num_unique_batters"
   ]
  },
  {
   "cell_type": "code",
   "execution_count": 71,
   "metadata": {
    "collapsed": true
   },
   "outputs": [],
   "source": [
    "fielding_num_rows = len(batting) \n",
    "\n",
    "unique_fielders = set() \n",
    "for fielders in fielding: \n",
    "    unique_fielders.add(fielders['playerID']) \n",
    "fielding_num_unique_fielders = len(unique_fielders)"
   ]
  },
  {
   "cell_type": "code",
   "execution_count": 57,
   "metadata": {
    "collapsed": false
   },
   "outputs": [
    {
     "name": "stdout",
     "output_type": "stream",
     "text": [
      "101332\n"
     ]
    }
   ],
   "source": [
    "print fielding_num_rows"
   ]
  },
  {
   "cell_type": "code",
   "execution_count": 58,
   "metadata": {
    "collapsed": false
   },
   "outputs": [
    {
     "name": "stdout",
     "output_type": "stream",
     "text": [
      "18465\n"
     ]
    }
   ],
   "source": [
    "print fielding_num_unique_fielders"
   ]
  },
  {
   "cell_type": "markdown",
   "metadata": {},
   "source": [
    "The number of unique fielders is less than the number of unique batters. Ideally, want to have hitting and fielding information for the same players. Need to print out some of the problem players to figure out why they are included in the fielding data. Once that is determinded, can filter them out of the final analysis."
   ]
  },
  {
   "cell_type": "code",
   "execution_count": 86,
   "metadata": {
    "collapsed": false
   },
   "outputs": [
    {
     "name": "stdout",
     "output_type": "stream",
     "text": [
      "1\n"
     ]
    }
   ],
   "source": [
    "num_problem_batters = 0 \n",
    "problem_batters = set()\n",
    "\n",
    "for batter in batting: \n",
    "    player = batter['playerID'] \n",
    "    if (player in unique_batters and player not in unique_fielders):\n",
    "        problem_batters.add(player)\n",
    "\n",
    "num_problem_batters = len(problem_batters)\n",
    "\n",
    "\n",
    "\n",
    "print  num_problem_batters"
   ]
  },
  {
   "cell_type": "code",
   "execution_count": 83,
   "metadata": {
    "collapsed": false
   },
   "outputs": [
    {
     "name": "stdout",
     "output_type": "stream",
     "text": [
      "101129\n"
     ]
    }
   ],
   "source": [
    "for batter in batting:\n",
    "    if batter['playerID'] in problem_batters:\n",
    "        batting.remove(batter)\n",
    "print len(batting)"
   ]
  },
  {
   "cell_type": "code",
   "execution_count": 85,
   "metadata": {
    "collapsed": false
   },
   "outputs": [
    {
     "name": "stdout",
     "output_type": "stream",
     "text": [
      "18466\n"
     ]
    }
   ],
   "source": [
    "unique_batters = set() \n",
    "for batters in batting: \n",
    "    unique_batters.add(batters['playerID']) \n",
    "batting_num_unique_batters = len(unique_batters)\n",
    "print batting_num_unique_batters"
   ]
  },
  {
   "cell_type": "markdown",
   "metadata": {},
   "source": []
  },
  {
   "cell_type": "code",
   "execution_count": 37,
   "metadata": {
    "collapsed": true
   },
   "outputs": [],
   "source": [
    "def remove_old_players(data): \n",
    "    new_data = []\n",
    "    for data_point in data:\n",
    "        if data_point[1] > 1969: \n",
    "            new_data.append(data_point)\n",
    "    return new_data"
   ]
  },
  {
   "cell_type": "code",
   "execution_count": 38,
   "metadata": {
    "collapsed": false
   },
   "outputs": [],
   "source": [
    "new_batters = remove_old_players(unique_batters)\n",
    "new_fielders = remove_old_players(unique_fielders)"
   ]
  },
  {
   "cell_type": "code",
   "execution_count": 39,
   "metadata": {
    "collapsed": false
   },
   "outputs": [
    {
     "name": "stdout",
     "output_type": "stream",
     "text": [
      "18659\n"
     ]
    }
   ],
   "source": [
    "print len(new_batters)"
   ]
  },
  {
   "cell_type": "markdown",
   "metadata": {},
   "source": [
    "Only want to analyze players who had one stint in the majors. Will filter out players with multiple stints."
   ]
  },
  {
   "cell_type": "code",
   "execution_count": null,
   "metadata": {
    "collapsed": true
   },
   "outputs": [],
   "source": []
  }
 ],
 "metadata": {
  "kernelspec": {
   "display_name": "Python 2",
   "language": "python",
   "name": "python2"
  },
  "language_info": {
   "codemirror_mode": {
    "name": "ipython",
    "version": 2
   },
   "file_extension": ".py",
   "mimetype": "text/x-python",
   "name": "python",
   "nbconvert_exporter": "python",
   "pygments_lexer": "ipython2",
   "version": "2.7.13"
  }
 },
 "nbformat": 4,
 "nbformat_minor": 2
}
