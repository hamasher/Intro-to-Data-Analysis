{
 "cells": [
  {
   "cell_type": "code",
   "execution_count": 1,
   "metadata": {
    "collapsed": true
   },
   "outputs": [],
   "source": [
    "import pandas as pd\n",
    "import numpy as np\n",
    "import matplotlib as plt"
   ]
  },
  {
   "cell_type": "markdown",
   "metadata": {},
   "source": [
    "After analyzing some of the baseball data provided, I had a couple of questions:\n",
    "\n",
    "    1) How does the number of at-bats relate to the number of singles, doubles, triples, and homeruns? \n",
    "    2) How does the number of strikeouts relate to the number of homeruns a player hits?\n",
    "    3) What is the relationship between the number of games started, putouts, errors, and assists?"
   ]
  },
  {
   "cell_type": "markdown",
   "metadata": {},
   "source": [
    "The first step in answering the questions is to read in the data files using the pd.read_csv funcion."
   ]
  },
  {
   "cell_type": "code",
   "execution_count": 2,
   "metadata": {
    "collapsed": true
   },
   "outputs": [],
   "source": [
    "batting_df = pd.read_csv('batting.csv') #reading in the batting data"
   ]
  },
  {
   "cell_type": "code",
   "execution_count": 3,
   "metadata": {
    "collapsed": true
   },
   "outputs": [],
   "source": [
    "fielding_df = pd.read_csv('fielding.csv') #reading in the fiedling data"
   ]
  },
  {
   "cell_type": "markdown",
   "metadata": {},
   "source": [
    "After reading in the data, I was interested in learning about how many unique players were part of the data. This was calculated using the unique method on the playerID series and then taking the length of that set. "
   ]
  },
  {
   "cell_type": "code",
   "execution_count": 4,
   "metadata": {
    "collapsed": false
   },
   "outputs": [
    {
     "data": {
      "text/plain": [
       "18659"
      ]
     },
     "execution_count": 4,
     "metadata": {},
     "output_type": "execute_result"
    }
   ],
   "source": [
    "len(set(batting_df.playerID)) # use the unique method on the playerID series\n",
    "len(batting_df.playerID.unique()) # use set on the playerID series"
   ]
  },
  {
   "cell_type": "code",
   "execution_count": 5,
   "metadata": {
    "collapsed": false
   },
   "outputs": [
    {
     "data": {
      "text/plain": [
       "18465"
      ]
     },
     "execution_count": 5,
     "metadata": {},
     "output_type": "execute_result"
    }
   ],
   "source": [
    "len(set(fielding_df.playerID)) # use the unique method on the playerID series\n",
    "len(fielding_df.playerID.unique()) # use set on the playerID series"
   ]
  },
  {
   "cell_type": "markdown",
   "metadata": {},
   "source": [
    "In 1969, two new rules were introduced to the benefit of the hitters: the pitcher's mound was dropped five inches and the strike zone was shrunk to the area from the armpits to the top of the hitter's knees (Baseball Almanac). Since these new rules effected batting statistics thereafter, I do not want to consider players before this time period."
   ]
  },
  {
   "cell_type": "code",
   "execution_count": 6,
   "metadata": {
    "collapsed": false
   },
   "outputs": [
    {
     "data": {
      "text/plain": [
       "array(['aaronha01', 'aaronto01', 'abernte02', ..., 'wojcias01',\n",
       "       'wrighmi01', 'zychto01'], dtype=object)"
      ]
     },
     "execution_count": 6,
     "metadata": {},
     "output_type": "execute_result"
    }
   ],
   "source": [
    "year_restriction=batting_df.yearID > 1969 # create constraint\n",
    "batting_post1969= batting_df[year_restriction] # restrict the DataFrame\n",
    "batting_post1969_players= batting_df[year_restriction].playerID # just the players\n",
    "batting_post1969_players.unique() # unique players wiith year restriction"
   ]
  },
  {
   "cell_type": "code",
   "execution_count": 7,
   "metadata": {
    "collapsed": false
   },
   "outputs": [
    {
     "data": {
      "text/plain": [
       "array(['aaronha01', 'aaronto01', 'abernte02', ..., 'keplema01', 'noelri01',\n",
       "       'reedmi02'], dtype=object)"
      ]
     },
     "execution_count": 7,
     "metadata": {},
     "output_type": "execute_result"
    }
   ],
   "source": [
    "year_restriction=fielding_df.yearID > 1969 # create constraint\n",
    "fielding_post1969= fielding_df[year_restriction] # restrict the DataFrame\n",
    "fielding_post1969_players= fielding_df[year_restriction].playerID # just the players\n",
    "fielding_post1969_players.unique() # unique players wiith year restriction"
   ]
  },
  {
   "cell_type": "markdown",
   "metadata": {},
   "source": [
    "After restricting for the year, I want to ensure that the restriction has been taken into account. One way to determine this is to print out the length of the post 1969 arrays. "
   ]
  },
  {
   "cell_type": "code",
   "execution_count": 8,
   "metadata": {
    "collapsed": false
   },
   "outputs": [
    {
     "name": "stdout",
     "output_type": "stream",
     "text": [
      "8863\n",
      "8828\n"
     ]
    }
   ],
   "source": [
    "print len (batting_post1969_players.unique())\n",
    "print len (fielding_post1969_players.unique())"
   ]
  },
  {
   "cell_type": "markdown",
   "metadata": {},
   "source": [
    "Judging by the much smaller lengths of the arrays, the restriction has worked. The arrays do not need to be the same length because the batting and fielding data are not being compared. However, it is important that the arrays are converted back to DataFrames for future calculations."
   ]
  },
  {
   "cell_type": "code",
   "execution_count": 9,
   "metadata": {
    "collapsed": false
   },
   "outputs": [],
   "source": [
    "batting_post1969_df = pd.DataFrame(data=batting_post1969) #converting batting data to DataFrame"
   ]
  },
  {
   "cell_type": "code",
   "execution_count": 10,
   "metadata": {
    "collapsed": false
   },
   "outputs": [],
   "source": [
    "fielding_post1969_df = pd.DataFrame(data=fielding_post1969) #converting fielding data to DataFrame"
   ]
  },
  {
   "cell_type": "markdown",
   "metadata": {},
   "source": [
    "The describe function can be used on the DataFrames to determine the mean, standard deviation, and interquartile range (IQR) for the respective columns. The results for the batting data can be seen below."
   ]
  },
  {
   "cell_type": "code",
   "execution_count": 11,
   "metadata": {
    "collapsed": false
   },
   "outputs": [
    {
     "name": "stdout",
     "output_type": "stream",
     "text": [
      "             yearID         stint             G            AB             R  \\\n",
      "count  53165.000000  53165.000000  53165.000000  48016.000000  48016.000000   \n",
      "mean    1994.672153      1.077269     52.177824    143.054878     18.669256   \n",
      "std       13.125956      0.280286     46.673373    187.662236     27.650167   \n",
      "min     1970.000000      1.000000      0.000000      0.000000      0.000000   \n",
      "25%     1984.000000      1.000000     14.000000      3.000000      0.000000   \n",
      "50%     1996.000000      1.000000     35.000000     45.000000      4.000000   \n",
      "75%     2006.000000      1.000000     79.000000    238.000000     28.000000   \n",
      "max     2015.000000      4.000000    163.000000    716.000000    152.000000   \n",
      "\n",
      "                  H            2B            3B            HR           RBI  \\\n",
      "count  48016.000000  48016.000000  48016.000000  48016.000000  48016.000000   \n",
      "mean      37.275512      6.847155      0.864358      3.828661     17.618023   \n",
      "std       52.641064     10.250501      1.809399      7.391510     27.074633   \n",
      "min        0.000000      0.000000      0.000000      0.000000      0.000000   \n",
      "25%        0.000000      0.000000      0.000000      0.000000      0.000000   \n",
      "50%        8.000000      1.000000      0.000000      0.000000      3.000000   \n",
      "75%       60.000000     11.000000      1.000000      4.000000     26.000000   \n",
      "max      262.000000     59.000000     23.000000     73.000000    165.000000   \n",
      "\n",
      "                 SB            CS            BB            SO           IBB  \\\n",
      "count  48016.000000  48016.000000  48016.000000  48016.000000  48016.000000   \n",
      "mean       2.761788      1.278824     13.761205     25.470468      1.214241   \n",
      "std        7.247441      2.702790     21.411546     33.239937      2.919950   \n",
      "min        0.000000      0.000000      0.000000      0.000000      0.000000   \n",
      "25%        0.000000      0.000000      0.000000      1.000000      0.000000   \n",
      "50%        0.000000      0.000000      2.000000     11.000000      0.000000   \n",
      "75%        2.000000      1.000000     20.000000     39.000000      1.000000   \n",
      "max      130.000000     42.000000    232.000000    223.000000    120.000000   \n",
      "\n",
      "                HBP            SH            SF          GIDP  \n",
      "count  48016.000000  48016.000000  48016.000000  48016.000000  \n",
      "mean       1.123146      1.541778      1.194956      3.223363  \n",
      "std        2.371210      2.752440      2.071069      4.892929  \n",
      "min        0.000000      0.000000      0.000000      0.000000  \n",
      "25%        0.000000      0.000000      0.000000      0.000000  \n",
      "50%        0.000000      0.000000      0.000000      1.000000  \n",
      "75%        1.000000      2.000000      2.000000      5.000000  \n",
      "max       50.000000     40.000000     18.000000     36.000000  \n"
     ]
    }
   ],
   "source": [
    "print batting_post1969_df.describe()"
   ]
  },
  {
   "cell_type": "markdown",
   "metadata": {},
   "source": [
    "Although the describe function is useful, \"Pearson's R\" gives a better idea of how correlated different factors are. Below, there is a table with the Pearson's R coefficients between different variable. The values range from 0, not correlated, to 1, very highly correlated. The values can also be positive or negative, indicating a positive or negative correlation.  The number of singles, doubles, and home-runs are highly correlated to the number of at-bats with correlations of 0.990292, 0.944652, and 0.785790 respetively. Triples are slightly less correlated with a Pearson's R of 0.692557.\n",
    "\n",
    "The table below can be used to see the correlation between the number of homeruns and strikeouts. Strikeouts and homeruns have a moderately highly correlation of 0.826734.\n",
    "\n",
    "It is important to remember in all cases that correlation does not imply causation. Therefore, we cannot say that an increase in the number of at-bats causes an increase in any type of hit or that strikeouts lead to more homeruns. "
   ]
  },
  {
   "cell_type": "code",
   "execution_count": 12,
   "metadata": {
    "collapsed": false
   },
   "outputs": [
    {
     "data": {
      "text/html": [
       "<div>\n",
       "<table border=\"1\" class=\"dataframe\">\n",
       "  <thead>\n",
       "    <tr style=\"text-align: right;\">\n",
       "      <th></th>\n",
       "      <th>yearID</th>\n",
       "      <th>stint</th>\n",
       "      <th>G</th>\n",
       "      <th>AB</th>\n",
       "      <th>R</th>\n",
       "      <th>H</th>\n",
       "      <th>2B</th>\n",
       "      <th>3B</th>\n",
       "      <th>HR</th>\n",
       "      <th>RBI</th>\n",
       "      <th>SB</th>\n",
       "      <th>CS</th>\n",
       "      <th>BB</th>\n",
       "      <th>SO</th>\n",
       "      <th>IBB</th>\n",
       "      <th>HBP</th>\n",
       "      <th>SH</th>\n",
       "      <th>SF</th>\n",
       "      <th>GIDP</th>\n",
       "    </tr>\n",
       "  </thead>\n",
       "  <tbody>\n",
       "    <tr>\n",
       "      <th>yearID</th>\n",
       "      <td>1.000000</td>\n",
       "      <td>0.027715</td>\n",
       "      <td>-0.049673</td>\n",
       "      <td>-0.106537</td>\n",
       "      <td>-0.075392</td>\n",
       "      <td>-0.095123</td>\n",
       "      <td>-0.034395</td>\n",
       "      <td>-0.112297</td>\n",
       "      <td>-0.013099</td>\n",
       "      <td>-0.067601</td>\n",
       "      <td>-0.071487</td>\n",
       "      <td>-0.144387</td>\n",
       "      <td>-0.098734</td>\n",
       "      <td>-0.013117</td>\n",
       "      <td>-0.115393</td>\n",
       "      <td>0.046848</td>\n",
       "      <td>-0.154727</td>\n",
       "      <td>-0.090076</td>\n",
       "      <td>-0.092642</td>\n",
       "    </tr>\n",
       "    <tr>\n",
       "      <th>stint</th>\n",
       "      <td>0.027715</td>\n",
       "      <td>1.000000</td>\n",
       "      <td>-0.144935</td>\n",
       "      <td>-0.112890</td>\n",
       "      <td>-0.104985</td>\n",
       "      <td>-0.108114</td>\n",
       "      <td>-0.103323</td>\n",
       "      <td>-0.073308</td>\n",
       "      <td>-0.081925</td>\n",
       "      <td>-0.099822</td>\n",
       "      <td>-0.062267</td>\n",
       "      <td>-0.072332</td>\n",
       "      <td>-0.097404</td>\n",
       "      <td>-0.105465</td>\n",
       "      <td>-0.073600</td>\n",
       "      <td>-0.072532</td>\n",
       "      <td>-0.081208</td>\n",
       "      <td>-0.086193</td>\n",
       "      <td>-0.096014</td>\n",
       "    </tr>\n",
       "    <tr>\n",
       "      <th>G</th>\n",
       "      <td>-0.049673</td>\n",
       "      <td>-0.144935</td>\n",
       "      <td>1.000000</td>\n",
       "      <td>0.931545</td>\n",
       "      <td>0.891828</td>\n",
       "      <td>0.917222</td>\n",
       "      <td>0.873829</td>\n",
       "      <td>0.639071</td>\n",
       "      <td>0.726449</td>\n",
       "      <td>0.864445</td>\n",
       "      <td>0.538850</td>\n",
       "      <td>0.631404</td>\n",
       "      <td>0.835788</td>\n",
       "      <td>0.837849</td>\n",
       "      <td>0.598068</td>\n",
       "      <td>0.600396</td>\n",
       "      <td>0.318482</td>\n",
       "      <td>0.752988</td>\n",
       "      <td>0.813016</td>\n",
       "    </tr>\n",
       "    <tr>\n",
       "      <th>AB</th>\n",
       "      <td>-0.106537</td>\n",
       "      <td>-0.112890</td>\n",
       "      <td>0.931545</td>\n",
       "      <td>1.000000</td>\n",
       "      <td>0.963346</td>\n",
       "      <td>0.990292</td>\n",
       "      <td>0.944652</td>\n",
       "      <td>0.692557</td>\n",
       "      <td>0.785790</td>\n",
       "      <td>0.930567</td>\n",
       "      <td>0.592925</td>\n",
       "      <td>0.679112</td>\n",
       "      <td>0.881776</td>\n",
       "      <td>0.892840</td>\n",
       "      <td>0.628791</td>\n",
       "      <td>0.644265</td>\n",
       "      <td>0.327819</td>\n",
       "      <td>0.806024</td>\n",
       "      <td>0.872828</td>\n",
       "    </tr>\n",
       "    <tr>\n",
       "      <th>R</th>\n",
       "      <td>-0.075392</td>\n",
       "      <td>-0.104985</td>\n",
       "      <td>0.891828</td>\n",
       "      <td>0.963346</td>\n",
       "      <td>1.000000</td>\n",
       "      <td>0.972993</td>\n",
       "      <td>0.938042</td>\n",
       "      <td>0.698810</td>\n",
       "      <td>0.837770</td>\n",
       "      <td>0.937933</td>\n",
       "      <td>0.637227</td>\n",
       "      <td>0.685926</td>\n",
       "      <td>0.910910</td>\n",
       "      <td>0.872778</td>\n",
       "      <td>0.641259</td>\n",
       "      <td>0.657606</td>\n",
       "      <td>0.263240</td>\n",
       "      <td>0.786906</td>\n",
       "      <td>0.817742</td>\n",
       "    </tr>\n",
       "    <tr>\n",
       "      <th>H</th>\n",
       "      <td>-0.095123</td>\n",
       "      <td>-0.108114</td>\n",
       "      <td>0.917222</td>\n",
       "      <td>0.990292</td>\n",
       "      <td>0.972993</td>\n",
       "      <td>1.000000</td>\n",
       "      <td>0.955457</td>\n",
       "      <td>0.701439</td>\n",
       "      <td>0.793134</td>\n",
       "      <td>0.938857</td>\n",
       "      <td>0.600907</td>\n",
       "      <td>0.680121</td>\n",
       "      <td>0.878120</td>\n",
       "      <td>0.863431</td>\n",
       "      <td>0.643786</td>\n",
       "      <td>0.641151</td>\n",
       "      <td>0.292402</td>\n",
       "      <td>0.805803</td>\n",
       "      <td>0.867549</td>\n",
       "    </tr>\n",
       "    <tr>\n",
       "      <th>2B</th>\n",
       "      <td>-0.034395</td>\n",
       "      <td>-0.103323</td>\n",
       "      <td>0.873829</td>\n",
       "      <td>0.944652</td>\n",
       "      <td>0.938042</td>\n",
       "      <td>0.955457</td>\n",
       "      <td>1.000000</td>\n",
       "      <td>0.628624</td>\n",
       "      <td>0.795918</td>\n",
       "      <td>0.925036</td>\n",
       "      <td>0.526056</td>\n",
       "      <td>0.600417</td>\n",
       "      <td>0.849862</td>\n",
       "      <td>0.849910</td>\n",
       "      <td>0.625734</td>\n",
       "      <td>0.644709</td>\n",
       "      <td>0.224964</td>\n",
       "      <td>0.789725</td>\n",
       "      <td>0.836616</td>\n",
       "    </tr>\n",
       "    <tr>\n",
       "      <th>3B</th>\n",
       "      <td>-0.112297</td>\n",
       "      <td>-0.073308</td>\n",
       "      <td>0.639071</td>\n",
       "      <td>0.692557</td>\n",
       "      <td>0.698810</td>\n",
       "      <td>0.701439</td>\n",
       "      <td>0.628624</td>\n",
       "      <td>1.000000</td>\n",
       "      <td>0.430848</td>\n",
       "      <td>0.584244</td>\n",
       "      <td>0.637205</td>\n",
       "      <td>0.656648</td>\n",
       "      <td>0.570770</td>\n",
       "      <td>0.578459</td>\n",
       "      <td>0.378667</td>\n",
       "      <td>0.397444</td>\n",
       "      <td>0.297518</td>\n",
       "      <td>0.511367</td>\n",
       "      <td>0.512642</td>\n",
       "    </tr>\n",
       "    <tr>\n",
       "      <th>HR</th>\n",
       "      <td>-0.013099</td>\n",
       "      <td>-0.081925</td>\n",
       "      <td>0.726449</td>\n",
       "      <td>0.785790</td>\n",
       "      <td>0.837770</td>\n",
       "      <td>0.793134</td>\n",
       "      <td>0.795918</td>\n",
       "      <td>0.430848</td>\n",
       "      <td>1.000000</td>\n",
       "      <td>0.920947</td>\n",
       "      <td>0.336158</td>\n",
       "      <td>0.398888</td>\n",
       "      <td>0.803122</td>\n",
       "      <td>0.826734</td>\n",
       "      <td>0.660339</td>\n",
       "      <td>0.591577</td>\n",
       "      <td>0.017473</td>\n",
       "      <td>0.698829</td>\n",
       "      <td>0.707215</td>\n",
       "    </tr>\n",
       "    <tr>\n",
       "      <th>RBI</th>\n",
       "      <td>-0.067601</td>\n",
       "      <td>-0.099822</td>\n",
       "      <td>0.864445</td>\n",
       "      <td>0.930567</td>\n",
       "      <td>0.937933</td>\n",
       "      <td>0.938857</td>\n",
       "      <td>0.925036</td>\n",
       "      <td>0.584244</td>\n",
       "      <td>0.920947</td>\n",
       "      <td>1.000000</td>\n",
       "      <td>0.459456</td>\n",
       "      <td>0.542009</td>\n",
       "      <td>0.879620</td>\n",
       "      <td>0.875298</td>\n",
       "      <td>0.691319</td>\n",
       "      <td>0.636156</td>\n",
       "      <td>0.159508</td>\n",
       "      <td>0.830714</td>\n",
       "      <td>0.844891</td>\n",
       "    </tr>\n",
       "    <tr>\n",
       "      <th>SB</th>\n",
       "      <td>-0.071487</td>\n",
       "      <td>-0.062267</td>\n",
       "      <td>0.538850</td>\n",
       "      <td>0.592925</td>\n",
       "      <td>0.637227</td>\n",
       "      <td>0.600907</td>\n",
       "      <td>0.526056</td>\n",
       "      <td>0.637205</td>\n",
       "      <td>0.336158</td>\n",
       "      <td>0.459456</td>\n",
       "      <td>1.000000</td>\n",
       "      <td>0.816754</td>\n",
       "      <td>0.525733</td>\n",
       "      <td>0.491648</td>\n",
       "      <td>0.288867</td>\n",
       "      <td>0.358910</td>\n",
       "      <td>0.290832</td>\n",
       "      <td>0.405621</td>\n",
       "      <td>0.381420</td>\n",
       "    </tr>\n",
       "    <tr>\n",
       "      <th>CS</th>\n",
       "      <td>-0.144387</td>\n",
       "      <td>-0.072332</td>\n",
       "      <td>0.631404</td>\n",
       "      <td>0.679112</td>\n",
       "      <td>0.685926</td>\n",
       "      <td>0.680121</td>\n",
       "      <td>0.600417</td>\n",
       "      <td>0.656648</td>\n",
       "      <td>0.398888</td>\n",
       "      <td>0.542009</td>\n",
       "      <td>0.816754</td>\n",
       "      <td>1.000000</td>\n",
       "      <td>0.593503</td>\n",
       "      <td>0.561635</td>\n",
       "      <td>0.350566</td>\n",
       "      <td>0.402981</td>\n",
       "      <td>0.336668</td>\n",
       "      <td>0.482692</td>\n",
       "      <td>0.488357</td>\n",
       "    </tr>\n",
       "    <tr>\n",
       "      <th>BB</th>\n",
       "      <td>-0.098734</td>\n",
       "      <td>-0.097404</td>\n",
       "      <td>0.835788</td>\n",
       "      <td>0.881776</td>\n",
       "      <td>0.910910</td>\n",
       "      <td>0.878120</td>\n",
       "      <td>0.849862</td>\n",
       "      <td>0.570770</td>\n",
       "      <td>0.803122</td>\n",
       "      <td>0.879620</td>\n",
       "      <td>0.525733</td>\n",
       "      <td>0.593503</td>\n",
       "      <td>1.000000</td>\n",
       "      <td>0.834690</td>\n",
       "      <td>0.713965</td>\n",
       "      <td>0.593722</td>\n",
       "      <td>0.207687</td>\n",
       "      <td>0.740924</td>\n",
       "      <td>0.757308</td>\n",
       "    </tr>\n",
       "    <tr>\n",
       "      <th>SO</th>\n",
       "      <td>-0.013117</td>\n",
       "      <td>-0.105465</td>\n",
       "      <td>0.837849</td>\n",
       "      <td>0.892840</td>\n",
       "      <td>0.872778</td>\n",
       "      <td>0.863431</td>\n",
       "      <td>0.849910</td>\n",
       "      <td>0.578459</td>\n",
       "      <td>0.826734</td>\n",
       "      <td>0.875298</td>\n",
       "      <td>0.491648</td>\n",
       "      <td>0.561635</td>\n",
       "      <td>0.834690</td>\n",
       "      <td>1.000000</td>\n",
       "      <td>0.560308</td>\n",
       "      <td>0.633011</td>\n",
       "      <td>0.248672</td>\n",
       "      <td>0.705638</td>\n",
       "      <td>0.752857</td>\n",
       "    </tr>\n",
       "    <tr>\n",
       "      <th>IBB</th>\n",
       "      <td>-0.115393</td>\n",
       "      <td>-0.073600</td>\n",
       "      <td>0.598068</td>\n",
       "      <td>0.628791</td>\n",
       "      <td>0.641259</td>\n",
       "      <td>0.643786</td>\n",
       "      <td>0.625734</td>\n",
       "      <td>0.378667</td>\n",
       "      <td>0.660339</td>\n",
       "      <td>0.691319</td>\n",
       "      <td>0.288867</td>\n",
       "      <td>0.350566</td>\n",
       "      <td>0.713965</td>\n",
       "      <td>0.560308</td>\n",
       "      <td>1.000000</td>\n",
       "      <td>0.392445</td>\n",
       "      <td>0.043563</td>\n",
       "      <td>0.565425</td>\n",
       "      <td>0.577102</td>\n",
       "    </tr>\n",
       "    <tr>\n",
       "      <th>HBP</th>\n",
       "      <td>0.046848</td>\n",
       "      <td>-0.072532</td>\n",
       "      <td>0.600396</td>\n",
       "      <td>0.644265</td>\n",
       "      <td>0.657606</td>\n",
       "      <td>0.641151</td>\n",
       "      <td>0.644709</td>\n",
       "      <td>0.397444</td>\n",
       "      <td>0.591577</td>\n",
       "      <td>0.636156</td>\n",
       "      <td>0.358910</td>\n",
       "      <td>0.402981</td>\n",
       "      <td>0.593722</td>\n",
       "      <td>0.633011</td>\n",
       "      <td>0.392445</td>\n",
       "      <td>1.000000</td>\n",
       "      <td>0.153204</td>\n",
       "      <td>0.520712</td>\n",
       "      <td>0.553216</td>\n",
       "    </tr>\n",
       "    <tr>\n",
       "      <th>SH</th>\n",
       "      <td>-0.154727</td>\n",
       "      <td>-0.081208</td>\n",
       "      <td>0.318482</td>\n",
       "      <td>0.327819</td>\n",
       "      <td>0.263240</td>\n",
       "      <td>0.292402</td>\n",
       "      <td>0.224964</td>\n",
       "      <td>0.297518</td>\n",
       "      <td>0.017473</td>\n",
       "      <td>0.159508</td>\n",
       "      <td>0.290832</td>\n",
       "      <td>0.336668</td>\n",
       "      <td>0.207687</td>\n",
       "      <td>0.248672</td>\n",
       "      <td>0.043563</td>\n",
       "      <td>0.153204</td>\n",
       "      <td>1.000000</td>\n",
       "      <td>0.184456</td>\n",
       "      <td>0.217897</td>\n",
       "    </tr>\n",
       "    <tr>\n",
       "      <th>SF</th>\n",
       "      <td>-0.090076</td>\n",
       "      <td>-0.086193</td>\n",
       "      <td>0.752988</td>\n",
       "      <td>0.806024</td>\n",
       "      <td>0.786906</td>\n",
       "      <td>0.805803</td>\n",
       "      <td>0.789725</td>\n",
       "      <td>0.511367</td>\n",
       "      <td>0.698829</td>\n",
       "      <td>0.830714</td>\n",
       "      <td>0.405621</td>\n",
       "      <td>0.482692</td>\n",
       "      <td>0.740924</td>\n",
       "      <td>0.705638</td>\n",
       "      <td>0.565425</td>\n",
       "      <td>0.520712</td>\n",
       "      <td>0.184456</td>\n",
       "      <td>1.000000</td>\n",
       "      <td>0.733114</td>\n",
       "    </tr>\n",
       "    <tr>\n",
       "      <th>GIDP</th>\n",
       "      <td>-0.092642</td>\n",
       "      <td>-0.096014</td>\n",
       "      <td>0.813016</td>\n",
       "      <td>0.872828</td>\n",
       "      <td>0.817742</td>\n",
       "      <td>0.867549</td>\n",
       "      <td>0.836616</td>\n",
       "      <td>0.512642</td>\n",
       "      <td>0.707215</td>\n",
       "      <td>0.844891</td>\n",
       "      <td>0.381420</td>\n",
       "      <td>0.488357</td>\n",
       "      <td>0.757308</td>\n",
       "      <td>0.752857</td>\n",
       "      <td>0.577102</td>\n",
       "      <td>0.553216</td>\n",
       "      <td>0.217897</td>\n",
       "      <td>0.733114</td>\n",
       "      <td>1.000000</td>\n",
       "    </tr>\n",
       "  </tbody>\n",
       "</table>\n",
       "</div>"
      ],
      "text/plain": [
       "          yearID     stint         G        AB         R         H        2B  \\\n",
       "yearID  1.000000  0.027715 -0.049673 -0.106537 -0.075392 -0.095123 -0.034395   \n",
       "stint   0.027715  1.000000 -0.144935 -0.112890 -0.104985 -0.108114 -0.103323   \n",
       "G      -0.049673 -0.144935  1.000000  0.931545  0.891828  0.917222  0.873829   \n",
       "AB     -0.106537 -0.112890  0.931545  1.000000  0.963346  0.990292  0.944652   \n",
       "R      -0.075392 -0.104985  0.891828  0.963346  1.000000  0.972993  0.938042   \n",
       "H      -0.095123 -0.108114  0.917222  0.990292  0.972993  1.000000  0.955457   \n",
       "2B     -0.034395 -0.103323  0.873829  0.944652  0.938042  0.955457  1.000000   \n",
       "3B     -0.112297 -0.073308  0.639071  0.692557  0.698810  0.701439  0.628624   \n",
       "HR     -0.013099 -0.081925  0.726449  0.785790  0.837770  0.793134  0.795918   \n",
       "RBI    -0.067601 -0.099822  0.864445  0.930567  0.937933  0.938857  0.925036   \n",
       "SB     -0.071487 -0.062267  0.538850  0.592925  0.637227  0.600907  0.526056   \n",
       "CS     -0.144387 -0.072332  0.631404  0.679112  0.685926  0.680121  0.600417   \n",
       "BB     -0.098734 -0.097404  0.835788  0.881776  0.910910  0.878120  0.849862   \n",
       "SO     -0.013117 -0.105465  0.837849  0.892840  0.872778  0.863431  0.849910   \n",
       "IBB    -0.115393 -0.073600  0.598068  0.628791  0.641259  0.643786  0.625734   \n",
       "HBP     0.046848 -0.072532  0.600396  0.644265  0.657606  0.641151  0.644709   \n",
       "SH     -0.154727 -0.081208  0.318482  0.327819  0.263240  0.292402  0.224964   \n",
       "SF     -0.090076 -0.086193  0.752988  0.806024  0.786906  0.805803  0.789725   \n",
       "GIDP   -0.092642 -0.096014  0.813016  0.872828  0.817742  0.867549  0.836616   \n",
       "\n",
       "              3B        HR       RBI        SB        CS        BB        SO  \\\n",
       "yearID -0.112297 -0.013099 -0.067601 -0.071487 -0.144387 -0.098734 -0.013117   \n",
       "stint  -0.073308 -0.081925 -0.099822 -0.062267 -0.072332 -0.097404 -0.105465   \n",
       "G       0.639071  0.726449  0.864445  0.538850  0.631404  0.835788  0.837849   \n",
       "AB      0.692557  0.785790  0.930567  0.592925  0.679112  0.881776  0.892840   \n",
       "R       0.698810  0.837770  0.937933  0.637227  0.685926  0.910910  0.872778   \n",
       "H       0.701439  0.793134  0.938857  0.600907  0.680121  0.878120  0.863431   \n",
       "2B      0.628624  0.795918  0.925036  0.526056  0.600417  0.849862  0.849910   \n",
       "3B      1.000000  0.430848  0.584244  0.637205  0.656648  0.570770  0.578459   \n",
       "HR      0.430848  1.000000  0.920947  0.336158  0.398888  0.803122  0.826734   \n",
       "RBI     0.584244  0.920947  1.000000  0.459456  0.542009  0.879620  0.875298   \n",
       "SB      0.637205  0.336158  0.459456  1.000000  0.816754  0.525733  0.491648   \n",
       "CS      0.656648  0.398888  0.542009  0.816754  1.000000  0.593503  0.561635   \n",
       "BB      0.570770  0.803122  0.879620  0.525733  0.593503  1.000000  0.834690   \n",
       "SO      0.578459  0.826734  0.875298  0.491648  0.561635  0.834690  1.000000   \n",
       "IBB     0.378667  0.660339  0.691319  0.288867  0.350566  0.713965  0.560308   \n",
       "HBP     0.397444  0.591577  0.636156  0.358910  0.402981  0.593722  0.633011   \n",
       "SH      0.297518  0.017473  0.159508  0.290832  0.336668  0.207687  0.248672   \n",
       "SF      0.511367  0.698829  0.830714  0.405621  0.482692  0.740924  0.705638   \n",
       "GIDP    0.512642  0.707215  0.844891  0.381420  0.488357  0.757308  0.752857   \n",
       "\n",
       "             IBB       HBP        SH        SF      GIDP  \n",
       "yearID -0.115393  0.046848 -0.154727 -0.090076 -0.092642  \n",
       "stint  -0.073600 -0.072532 -0.081208 -0.086193 -0.096014  \n",
       "G       0.598068  0.600396  0.318482  0.752988  0.813016  \n",
       "AB      0.628791  0.644265  0.327819  0.806024  0.872828  \n",
       "R       0.641259  0.657606  0.263240  0.786906  0.817742  \n",
       "H       0.643786  0.641151  0.292402  0.805803  0.867549  \n",
       "2B      0.625734  0.644709  0.224964  0.789725  0.836616  \n",
       "3B      0.378667  0.397444  0.297518  0.511367  0.512642  \n",
       "HR      0.660339  0.591577  0.017473  0.698829  0.707215  \n",
       "RBI     0.691319  0.636156  0.159508  0.830714  0.844891  \n",
       "SB      0.288867  0.358910  0.290832  0.405621  0.381420  \n",
       "CS      0.350566  0.402981  0.336668  0.482692  0.488357  \n",
       "BB      0.713965  0.593722  0.207687  0.740924  0.757308  \n",
       "SO      0.560308  0.633011  0.248672  0.705638  0.752857  \n",
       "IBB     1.000000  0.392445  0.043563  0.565425  0.577102  \n",
       "HBP     0.392445  1.000000  0.153204  0.520712  0.553216  \n",
       "SH      0.043563  0.153204  1.000000  0.184456  0.217897  \n",
       "SF      0.565425  0.520712  0.184456  1.000000  0.733114  \n",
       "GIDP    0.577102  0.553216  0.217897  0.733114  1.000000  "
      ]
     },
     "execution_count": 12,
     "metadata": {},
     "output_type": "execute_result"
    }
   ],
   "source": [
    "batting_post1969.corr(method='pearson', min_periods=1)"
   ]
  },
  {
   "cell_type": "markdown",
   "metadata": {},
   "source": [
    "It is important to visualize the data. Below, I created a function that can be used to create bar graphs. The function takes five arguments: the subset of the DataFrame that is to be plotted, the values for the x-axis bins, and the titles of the graph, x- and y-axes. The output of the function will be a bar graph with the specified values."
   ]
  },
  {
   "cell_type": "code",
   "execution_count": 13,
   "metadata": {
    "collapsed": false
   },
   "outputs": [],
   "source": [
    "def create_bar_chart(subset, title_name, x_bins, x_axis_title, y_axis_title):\n",
    "    ax = subset.plot(kind='bar', x = x_bins, title = title_name, figsize=(15, 10), legend=True, fontsize=12) #specify bar graph\n",
    "    ax.set_xlabel(x_axis_title, fontsize=12) #label x-axis\n",
    "    ax.set_ylabel(y_axis_title, fontsize = 12) #label y-axis\n",
    "    plt.show()"
   ]
  },
  {
   "cell_type": "markdown",
   "metadata": {},
   "source": [
    "Below, I used the create_bar_chart function created above to create a bar graph. The bar graph takes a subset of data that includes singles, doubles, triples, homeruns and the number of at-bats. The number of hits are grouped together per 100 at-bats.\n",
    "\n",
    "On the x-axis, the number of at-bats are grouped together per 100 at-bats, ranging from 0 to 700 at-bats. The y-axis represents the total number of hits. Each color bar represents a particular type of hit, as represented by the legend on the top right corner of the graph. H stands for a single, 2B for a double, 3B for a triple, and HR for a home-run.\n",
    "\n",
    "It can be seen that as the number at-bast increase, so does the total number of hits. Singles are the most common hit, followed by doubles, homeruns, and triples. "
   ]
  },
  {
   "cell_type": "code",
   "execution_count": 14,
   "metadata": {
    "collapsed": false
   },
   "outputs": [
    {
     "data": {
      "image/png": "[encoded data removed]",
      "text/plain": [
       "<matplotlib.figure.Figure at 0x8dda048>"
      ]
     },
     "metadata": {},
     "output_type": "display_data"
    }
   ],
   "source": [
    "import matplotlib.pyplot as plt #import the library\n",
    "\n",
    "batting_post1969_new = batting_post1969.copy() #make a copy of the DataFrame so don't alter original DataFrame\n",
    "batting_post1969_new['ABnew'] = pd.cut(batting_post1969_new['AB'], [0, 100, 200, 300, 400, 500, 600, 700]) #cut the data so that the data is read faster. At-bats is brokedn up into groups of 100\n",
    "\n",
    "batting_subset = batting_post1969_new[['H','2B','3B','HR','ABnew']].groupby('ABnew', as_index=False).mean()#use groupby function to group data by at-bats\n",
    "\n",
    "batting_title_name = \"Types of Hit per At-Bats\"\n",
    "batting_x_bins = 'ABnew'\n",
    "batting_x_axis_title = 'Number of At-Bats'\n",
    "batting_y_axis_title = 'Number of Hits'\n",
    "\n",
    "create_bar_chart(batting_subset, batting_title_name, batting_x_bins, batting_x_axis_title, batting_y_axis_title)"
   ]
  },
  {
   "cell_type": "markdown",
   "metadata": {},
   "source": [
    "Below, I created a line graph to depict the relationship between the number of homeruns and strikeouts. The x-axis represents the number of strikeouts, per 50 strikoeuts, ranging from 0 to 250 strikeouts. The graph indicates that as the number of strikeouts increase, so does the number of homeruns. This is expected because of the 0.82673 correlation between the two variables . "
   ]
  },
  {
   "cell_type": "code",
   "execution_count": 15,
   "metadata": {
    "collapsed": false
   },
   "outputs": [
    {
     "data": {
      "image/png": "[encoded data removed]",
      "text/plain": [
       "<matplotlib.figure.Figure at 0xb126f60>"
      ]
     },
     "metadata": {},
     "output_type": "display_data"
    }
   ],
   "source": [
    "batting_post1969_new['SOnew'] = pd.cut(batting_post1969_new['SO'], [0, 50, 100, 150, 200, 250]) #cut the data so that the data is read faster. At-bats is brokedn up into groups of 100\n",
    "\n",
    "strikeout_subset = batting_post1969_new[['HR','SOnew']].groupby('SOnew', as_index=False).mean()#use groupby function to group data by at-bats\n",
    "\n",
    "ax = strikeout_subset.plot(kind='line', x = 'SOnew', title =\"Homeruns Versus Strikeout\", figsize=(15, 10), legend=True, fontsize=12) #specify bar graph\n",
    "ax.set_xlabel(\"Strikeouts\", fontsize=12) #specify x-axis title\n",
    "ax.set_ylabel(\"Homeruns\", fontsize = 12)\n",
    "\n",
    "plt.show()"
   ]
  },
  {
   "cell_type": "markdown",
   "metadata": {},
   "source": [
    "Using the describe function on the fielding data."
   ]
  },
  {
   "cell_type": "code",
   "execution_count": 16,
   "metadata": {
    "collapsed": false
   },
   "outputs": [
    {
     "name": "stdout",
     "output_type": "stream",
     "text": [
      "             yearID         stint             G            GS       InnOuts  \\\n",
      "count  99184.000000  99184.000000  99184.000000  55976.000000  82440.000000   \n",
      "mean    1993.954801      1.075879     33.173153     26.468647    695.917928   \n",
      "std       13.057736      0.277813     40.369143     40.469303   1051.859965   \n",
      "min     1970.000000      1.000000      1.000000      0.000000      0.000000   \n",
      "25%     1983.000000      1.000000      4.000000      1.000000     54.000000   \n",
      "50%     1995.000000      1.000000     16.000000      7.000000    214.000000   \n",
      "75%     2005.000000      1.000000     45.000000     32.000000    729.000000   \n",
      "max     2015.000000      4.000000    163.000000    163.000000   4469.000000   \n",
      "\n",
      "                 PO             A             E            DP           PB  \\\n",
      "count  85067.000000  85067.000000  85067.000000  85067.000000  4860.000000   \n",
      "mean      73.580448     25.331315      1.950098      5.988456     3.142798   \n",
      "std      164.940193     68.746633      3.709389     18.291247     3.749978   \n",
      "min        0.000000      0.000000      0.000000      0.000000     0.000000   \n",
      "25%        2.000000      1.000000      0.000000      0.000000     0.000000   \n",
      "50%        9.000000      4.000000      1.000000      0.000000     2.000000   \n",
      "75%       62.000000     15.000000      2.000000      2.000000     5.000000   \n",
      "max     1626.000000    621.000000     44.000000    176.000000    35.000000   \n",
      "\n",
      "                WP           SB           CS           ZR  \n",
      "count  3020.000000  4855.000000  4855.000000  3020.000000  \n",
      "mean     12.275828    27.309784    12.644490     0.604967  \n",
      "std      12.661428    27.301066    13.776203     1.282507  \n",
      "min       0.000000     0.000000     0.000000     0.000000  \n",
      "25%       2.000000     4.000000     1.000000     0.000000  \n",
      "50%       8.000000    19.000000     8.000000     0.000000  \n",
      "75%      20.000000    43.000000    20.000000     1.000000  \n",
      "max      69.000000   155.000000    89.000000    15.000000  \n"
     ]
    }
   ],
   "source": [
    "print fielding_post1969_df.describe()"
   ]
  },
  {
   "cell_type": "markdown",
   "metadata": {},
   "source": [
    "Pearson's R table for the fielding data. We can see that assists, errors, and putouts are all positively correlated to the games started, with values of 0.553539, 0.741759, and 0.732167, respectively."
   ]
  },
  {
   "cell_type": "code",
   "execution_count": 17,
   "metadata": {
    "collapsed": false
   },
   "outputs": [
    {
     "data": {
      "text/html": [
       "<div>\n",
       "<table border=\"1\" class=\"dataframe\">\n",
       "  <thead>\n",
       "    <tr style=\"text-align: right;\">\n",
       "      <th></th>\n",
       "      <th>yearID</th>\n",
       "      <th>stint</th>\n",
       "      <th>G</th>\n",
       "      <th>GS</th>\n",
       "      <th>InnOuts</th>\n",
       "      <th>PO</th>\n",
       "      <th>A</th>\n",
       "      <th>E</th>\n",
       "      <th>DP</th>\n",
       "      <th>PB</th>\n",
       "      <th>WP</th>\n",
       "      <th>SB</th>\n",
       "      <th>CS</th>\n",
       "      <th>ZR</th>\n",
       "    </tr>\n",
       "  </thead>\n",
       "  <tbody>\n",
       "    <tr>\n",
       "      <th>yearID</th>\n",
       "      <td>1.000000</td>\n",
       "      <td>0.036538</td>\n",
       "      <td>-0.003736</td>\n",
       "      <td>-0.031327</td>\n",
       "      <td>-0.033987</td>\n",
       "      <td>-0.014221</td>\n",
       "      <td>0.001643</td>\n",
       "      <td>-0.073399</td>\n",
       "      <td>0.011488</td>\n",
       "      <td>-0.071690</td>\n",
       "      <td>0.055058</td>\n",
       "      <td>-0.035779</td>\n",
       "      <td>-0.141434</td>\n",
       "      <td>-0.113066</td>\n",
       "    </tr>\n",
       "    <tr>\n",
       "      <th>stint</th>\n",
       "      <td>0.036538</td>\n",
       "      <td>1.000000</td>\n",
       "      <td>-0.105313</td>\n",
       "      <td>-0.085815</td>\n",
       "      <td>-0.093337</td>\n",
       "      <td>-0.066314</td>\n",
       "      <td>-0.056884</td>\n",
       "      <td>-0.074471</td>\n",
       "      <td>-0.050845</td>\n",
       "      <td>-0.106585</td>\n",
       "      <td>-0.106394</td>\n",
       "      <td>-0.133457</td>\n",
       "      <td>-0.128060</td>\n",
       "      <td>-0.066082</td>\n",
       "    </tr>\n",
       "    <tr>\n",
       "      <th>G</th>\n",
       "      <td>-0.003736</td>\n",
       "      <td>-0.105313</td>\n",
       "      <td>1.000000</td>\n",
       "      <td>0.949754</td>\n",
       "      <td>0.952919</td>\n",
       "      <td>0.685743</td>\n",
       "      <td>0.546548</td>\n",
       "      <td>0.702666</td>\n",
       "      <td>0.527970</td>\n",
       "      <td>0.701528</td>\n",
       "      <td>0.902518</td>\n",
       "      <td>0.897270</td>\n",
       "      <td>0.898942</td>\n",
       "      <td>0.531660</td>\n",
       "    </tr>\n",
       "    <tr>\n",
       "      <th>GS</th>\n",
       "      <td>-0.031327</td>\n",
       "      <td>-0.085815</td>\n",
       "      <td>0.949754</td>\n",
       "      <td>1.000000</td>\n",
       "      <td>0.996259</td>\n",
       "      <td>0.732167</td>\n",
       "      <td>0.553539</td>\n",
       "      <td>0.741759</td>\n",
       "      <td>0.538721</td>\n",
       "      <td>0.706052</td>\n",
       "      <td>0.905827</td>\n",
       "      <td>0.904121</td>\n",
       "      <td>0.934314</td>\n",
       "      <td>0.540911</td>\n",
       "    </tr>\n",
       "    <tr>\n",
       "      <th>InnOuts</th>\n",
       "      <td>-0.033987</td>\n",
       "      <td>-0.093337</td>\n",
       "      <td>0.952919</td>\n",
       "      <td>0.996259</td>\n",
       "      <td>1.000000</td>\n",
       "      <td>0.729169</td>\n",
       "      <td>0.578477</td>\n",
       "      <td>0.741093</td>\n",
       "      <td>0.566128</td>\n",
       "      <td>0.698924</td>\n",
       "      <td>0.906321</td>\n",
       "      <td>0.896737</td>\n",
       "      <td>0.901937</td>\n",
       "      <td>0.542848</td>\n",
       "    </tr>\n",
       "    <tr>\n",
       "      <th>PO</th>\n",
       "      <td>-0.014221</td>\n",
       "      <td>-0.066314</td>\n",
       "      <td>0.685743</td>\n",
       "      <td>0.732167</td>\n",
       "      <td>0.729169</td>\n",
       "      <td>1.000000</td>\n",
       "      <td>0.286608</td>\n",
       "      <td>0.475934</td>\n",
       "      <td>0.639479</td>\n",
       "      <td>0.672664</td>\n",
       "      <td>0.906032</td>\n",
       "      <td>0.870311</td>\n",
       "      <td>0.845552</td>\n",
       "      <td>0.520737</td>\n",
       "    </tr>\n",
       "    <tr>\n",
       "      <th>A</th>\n",
       "      <td>0.001643</td>\n",
       "      <td>-0.056884</td>\n",
       "      <td>0.546548</td>\n",
       "      <td>0.553539</td>\n",
       "      <td>0.578477</td>\n",
       "      <td>0.286608</td>\n",
       "      <td>1.000000</td>\n",
       "      <td>0.775424</td>\n",
       "      <td>0.782112</td>\n",
       "      <td>0.679030</td>\n",
       "      <td>0.868796</td>\n",
       "      <td>0.859428</td>\n",
       "      <td>0.935901</td>\n",
       "      <td>0.593220</td>\n",
       "    </tr>\n",
       "    <tr>\n",
       "      <th>E</th>\n",
       "      <td>-0.073399</td>\n",
       "      <td>-0.074471</td>\n",
       "      <td>0.702666</td>\n",
       "      <td>0.741759</td>\n",
       "      <td>0.741093</td>\n",
       "      <td>0.475934</td>\n",
       "      <td>0.775424</td>\n",
       "      <td>1.000000</td>\n",
       "      <td>0.633429</td>\n",
       "      <td>0.612938</td>\n",
       "      <td>0.729565</td>\n",
       "      <td>0.768351</td>\n",
       "      <td>0.757613</td>\n",
       "      <td>0.477234</td>\n",
       "    </tr>\n",
       "    <tr>\n",
       "      <th>DP</th>\n",
       "      <td>0.011488</td>\n",
       "      <td>-0.050845</td>\n",
       "      <td>0.527970</td>\n",
       "      <td>0.538721</td>\n",
       "      <td>0.566128</td>\n",
       "      <td>0.639479</td>\n",
       "      <td>0.782112</td>\n",
       "      <td>0.633429</td>\n",
       "      <td>1.000000</td>\n",
       "      <td>0.580352</td>\n",
       "      <td>0.773954</td>\n",
       "      <td>0.739603</td>\n",
       "      <td>0.824732</td>\n",
       "      <td>0.511814</td>\n",
       "    </tr>\n",
       "    <tr>\n",
       "      <th>PB</th>\n",
       "      <td>-0.071690</td>\n",
       "      <td>-0.106585</td>\n",
       "      <td>0.701528</td>\n",
       "      <td>0.706052</td>\n",
       "      <td>0.698924</td>\n",
       "      <td>0.672664</td>\n",
       "      <td>0.679030</td>\n",
       "      <td>0.612938</td>\n",
       "      <td>0.580352</td>\n",
       "      <td>1.000000</td>\n",
       "      <td>0.709578</td>\n",
       "      <td>0.675836</td>\n",
       "      <td>0.648183</td>\n",
       "      <td>0.379044</td>\n",
       "    </tr>\n",
       "    <tr>\n",
       "      <th>WP</th>\n",
       "      <td>0.055058</td>\n",
       "      <td>-0.106394</td>\n",
       "      <td>0.902518</td>\n",
       "      <td>0.905827</td>\n",
       "      <td>0.906321</td>\n",
       "      <td>0.906032</td>\n",
       "      <td>0.868796</td>\n",
       "      <td>0.729565</td>\n",
       "      <td>0.773954</td>\n",
       "      <td>0.709578</td>\n",
       "      <td>1.000000</td>\n",
       "      <td>0.826968</td>\n",
       "      <td>0.843110</td>\n",
       "      <td>0.479505</td>\n",
       "    </tr>\n",
       "    <tr>\n",
       "      <th>SB</th>\n",
       "      <td>-0.035779</td>\n",
       "      <td>-0.133457</td>\n",
       "      <td>0.897270</td>\n",
       "      <td>0.904121</td>\n",
       "      <td>0.896737</td>\n",
       "      <td>0.870311</td>\n",
       "      <td>0.859428</td>\n",
       "      <td>0.768351</td>\n",
       "      <td>0.739603</td>\n",
       "      <td>0.675836</td>\n",
       "      <td>0.826968</td>\n",
       "      <td>1.000000</td>\n",
       "      <td>0.858779</td>\n",
       "      <td>0.401300</td>\n",
       "    </tr>\n",
       "    <tr>\n",
       "      <th>CS</th>\n",
       "      <td>-0.141434</td>\n",
       "      <td>-0.128060</td>\n",
       "      <td>0.898942</td>\n",
       "      <td>0.934314</td>\n",
       "      <td>0.901937</td>\n",
       "      <td>0.845552</td>\n",
       "      <td>0.935901</td>\n",
       "      <td>0.757613</td>\n",
       "      <td>0.824732</td>\n",
       "      <td>0.648183</td>\n",
       "      <td>0.843110</td>\n",
       "      <td>0.858779</td>\n",
       "      <td>1.000000</td>\n",
       "      <td>0.541057</td>\n",
       "    </tr>\n",
       "    <tr>\n",
       "      <th>ZR</th>\n",
       "      <td>-0.113066</td>\n",
       "      <td>-0.066082</td>\n",
       "      <td>0.531660</td>\n",
       "      <td>0.540911</td>\n",
       "      <td>0.542848</td>\n",
       "      <td>0.520737</td>\n",
       "      <td>0.593220</td>\n",
       "      <td>0.477234</td>\n",
       "      <td>0.511814</td>\n",
       "      <td>0.379044</td>\n",
       "      <td>0.479505</td>\n",
       "      <td>0.401300</td>\n",
       "      <td>0.541057</td>\n",
       "      <td>1.000000</td>\n",
       "    </tr>\n",
       "  </tbody>\n",
       "</table>\n",
       "</div>"
      ],
      "text/plain": [
       "           yearID     stint         G        GS   InnOuts        PO         A  \\\n",
       "yearID   1.000000  0.036538 -0.003736 -0.031327 -0.033987 -0.014221  0.001643   \n",
       "stint    0.036538  1.000000 -0.105313 -0.085815 -0.093337 -0.066314 -0.056884   \n",
       "G       -0.003736 -0.105313  1.000000  0.949754  0.952919  0.685743  0.546548   \n",
       "GS      -0.031327 -0.085815  0.949754  1.000000  0.996259  0.732167  0.553539   \n",
       "InnOuts -0.033987 -0.093337  0.952919  0.996259  1.000000  0.729169  0.578477   \n",
       "PO      -0.014221 -0.066314  0.685743  0.732167  0.729169  1.000000  0.286608   \n",
       "A        0.001643 -0.056884  0.546548  0.553539  0.578477  0.286608  1.000000   \n",
       "E       -0.073399 -0.074471  0.702666  0.741759  0.741093  0.475934  0.775424   \n",
       "DP       0.011488 -0.050845  0.527970  0.538721  0.566128  0.639479  0.782112   \n",
       "PB      -0.071690 -0.106585  0.701528  0.706052  0.698924  0.672664  0.679030   \n",
       "WP       0.055058 -0.106394  0.902518  0.905827  0.906321  0.906032  0.868796   \n",
       "SB      -0.035779 -0.133457  0.897270  0.904121  0.896737  0.870311  0.859428   \n",
       "CS      -0.141434 -0.128060  0.898942  0.934314  0.901937  0.845552  0.935901   \n",
       "ZR      -0.113066 -0.066082  0.531660  0.540911  0.542848  0.520737  0.593220   \n",
       "\n",
       "                E        DP        PB        WP        SB        CS        ZR  \n",
       "yearID  -0.073399  0.011488 -0.071690  0.055058 -0.035779 -0.141434 -0.113066  \n",
       "stint   -0.074471 -0.050845 -0.106585 -0.106394 -0.133457 -0.128060 -0.066082  \n",
       "G        0.702666  0.527970  0.701528  0.902518  0.897270  0.898942  0.531660  \n",
       "GS       0.741759  0.538721  0.706052  0.905827  0.904121  0.934314  0.540911  \n",
       "InnOuts  0.741093  0.566128  0.698924  0.906321  0.896737  0.901937  0.542848  \n",
       "PO       0.475934  0.639479  0.672664  0.906032  0.870311  0.845552  0.520737  \n",
       "A        0.775424  0.782112  0.679030  0.868796  0.859428  0.935901  0.593220  \n",
       "E        1.000000  0.633429  0.612938  0.729565  0.768351  0.757613  0.477234  \n",
       "DP       0.633429  1.000000  0.580352  0.773954  0.739603  0.824732  0.511814  \n",
       "PB       0.612938  0.580352  1.000000  0.709578  0.675836  0.648183  0.379044  \n",
       "WP       0.729565  0.773954  0.709578  1.000000  0.826968  0.843110  0.479505  \n",
       "SB       0.768351  0.739603  0.675836  0.826968  1.000000  0.858779  0.401300  \n",
       "CS       0.757613  0.824732  0.648183  0.843110  0.858779  1.000000  0.541057  \n",
       "ZR       0.477234  0.511814  0.379044  0.479505  0.401300  0.541057  1.000000  "
      ]
     },
     "execution_count": 17,
     "metadata": {},
     "output_type": "execute_result"
    }
   ],
   "source": [
    "fielding_post1969.corr(method='pearson', min_periods=1)"
   ]
  },
  {
   "cell_type": "markdown",
   "metadata": {},
   "source": [
    "Below, I used the create_bar_chart function to create a graph for a subset of the fielding data including the putouts, assists, errors, and games started. The data is grouped together per 50 games started, ranging from 0 to 200 games. The x-axis represents the the number of games started, whereas the y-axis represents total number of putouts, errors, and assists. Each colored bar corresponds to a particular statistic, as indicated by the legend on the top left corner. Blue if for putouts, orange is for assists, and green is for the number of errors.\n",
    "\n",
    "As the number of games started increases, so does the occurence of put-outs, assists, and erros. "
   ]
  },
  {
   "cell_type": "code",
   "execution_count": 18,
   "metadata": {
    "collapsed": false
   },
   "outputs": [
    {
     "data": {
      "image/png": "[encoded data removed]",
      "text/plain": [
       "<matplotlib.figure.Figure at 0xb79a0b8>"
      ]
     },
     "metadata": {},
     "output_type": "display_data"
    }
   ],
   "source": [
    "fielding_post1969_new = fielding_post1969.copy() #make a copy of the DataFrame so don't alter original DataFrame\n",
    "fielding_post1969_new['GSnew'] = pd.cut(fielding_post1969_new['GS'], [0, 50, 100, 150, 200]) #cut the data so that the data is read faster. Games started is brokedn up into groups of 50\n",
    "\n",
    "fielding_subset = fielding_post1969_new[['PO','A','E','GSnew']].groupby('GSnew', as_index=False).mean() #use groupby function to group data by games started\n",
    "fielding_title_name = \"Fielding for Games Started\"\n",
    "fielding_x_bins = 'GSnew'\n",
    "fielding_x_axis_title = \"Games Started\"\n",
    "fielding_y_axis_title = 'Put-outs, Assists, and Errors'\n",
    "\n",
    "create_bar_chart(fielding_subset, fielding_title_name, fielding_x_bins, fielding_x_axis_title, fielding_y_axis_title) "
   ]
  },
  {
   "cell_type": "markdown",
   "metadata": {},
   "source": [
    "Conclusion:\n",
    "\n",
    "Despite the thoroughness of the data provided, there are some limitations for the analysis. One issue is the inability to prove any causal effects. In order for a causal realtionship to be proven, there would need be controlled, blinded experiment, which cannot be done during a Major League Baseball season. Additionally, there may be many different \"lurking\" variables that effect the data. For example, where the hits per number of at-bats versus right or left-handed pitchers? Are the hitters with a high strike out rate instructed by their managers to only attempt to hit homeruns, or is their job to simply get one base? Without knowing the answer to factors such as these, it is hard to analyze the data further. Further research would hope to account for more of this ambigious data to get a better idea of how the different statistics relate to one another."
   ]
  },
  {
   "cell_type": "markdown",
   "metadata": {},
   "source": [
    "Resources:\n",
    "\n",
    "http://www.baseball-almanac.com/rulechng.shtml"
   ]
  }
 ],
 "metadata": {
  "kernelspec": {
   "display_name": "Python 2",
   "language": "python",
   "name": "python2"
  },
  "language_info": {
   "codemirror_mode": {
    "name": "ipython",
    "version": 2
   },
   "file_extension": ".py",
   "mimetype": "text/x-python",
   "name": "python",
   "nbconvert_exporter": "python",
   "pygments_lexer": "ipython2",
   "version": "2.7.13"
  }
 },
 "nbformat": 4,
 "nbformat_minor": 2
}
